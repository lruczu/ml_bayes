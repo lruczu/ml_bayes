{
 "cells": [
  {
   "cell_type": "markdown",
   "metadata": {},
   "source": [
    "#### Measures of predictive accuracy"
   ]
  },
  {
   "cell_type": "markdown",
   "metadata": {},
   "source": [
    "Log predictive density (or log-likelihood) is the following quantity log(p(y|$\\theta$))\n",
    "\n",
    "Predictive accuracy for a single data point:\n",
    "\n",
    "Let f denote true model, y observed data, $\\tilde{y}$ future data. The out-of-sample predictive fit for a new data point $\\tilde{y}_{i}$ using logarithmic score is then\n",
    "(log probability of seeing a single point $\\tilde{y}_{i}$): <br><br>\n",
    "$log(p_{post}(\\tilde{y_{i}}))$ = $log\\int p(\\tilde{y_{i}}|\\theta)p_{post}(\\theta)d\\theta$ = log($E_{post}(p(\\tilde{y_{i}}|\\theta))$)\n",
    "\n",
    "Here, $p_{post}(\\theta)$ = p($\\theta$|y).\n",
    "\n",
    "Future data $\\tilde{y}$ might not be available, so we want to estimate out-of-sample predictive fit. To do so, we define expected out-of-sample log predictive density: <br><br>\n",
    "\n",
    "elpd = expected log predictive density of a new data point = $E_{f}(log_{post}(\\tilde{y}_{i}))$ = $\\int (logp_{post}(\\tilde{y}_{i}))f(\\tilde{y}_{i})d\\tilde{y}$. \n",
    "\n",
    "For n, data points <br>\n",
    "elppd = expected log pointwise predictive density for a new dataset = $\\sum_{i=1}^{n}E_{f}(logp_{post}(\\tilde{y}_{i}))$\n",
    "\n",
    "The problem is that we don't know f. \n",
    "\n",
    "lppd = log pointwise predictive density = log $\\prod_{i=1}^{n}p_{post}(y_{i})$ = $\\sum_{i=1}^{n}log(p_{post}(y_{i}))$ = $\\sum_{i=1}^{n}log \\int p(y_{i}|\\theta)p_{post}(\\theta)d\\theta$. \n",
    "\n",
    "Last quantity can be easily if we have $\\theta$'s sampled from posterior. Suppose we have S samples $\\theta_{1}$, .., $\\theta_{S}$, then: <br><br>\n",
    "$\\int p(y_{i}|\\theta)p_{post}(\\theta)d\\theta$ $\\approx$ $\\frac{1}{S}\\sum_{i=1}^{S}p(y_{i}|\\theta^{s})$\n",
    "\n",
    "lppd is overoptimistic compared to elppd. That's why there is a need for some correction. "
   ]
  },
  {
   "cell_type": "markdown",
   "metadata": {},
   "source": [
    "#### Akaike information criterion (AIC)"
   ]
  },
  {
   "cell_type": "markdown",
   "metadata": {},
   "source": [
    "Predictive accuracy very often is not assessed by looking at $p_{post}(\\theta)$, but by just at a point estimate $\\hat{\\theta}$.\n",
    "\n",
    "So we recall, elpd: <br><br>\n",
    "$E_{f}(log_{post}(\\tilde{y}_{i}))$ = $\\int (logp_{post}(\\tilde{y}_{i}))f(\\tilde{y}_{i})d\\tilde{y}$\n",
    "\n",
    "Here, the expectation is taken over all possible data (governed by f) and predictive probability $p_{post}(\\tilde{y}_{i})$ = $\\int p(\\tilde{y}_{i}|\\theta)p_{post}(\\theta)d\\theta$ = $\\int p(\\tilde{y}_{i}|\\theta)p(\\theta|y)d\\theta$. \n",
    "\n",
    "By fixing $p_{post}(\\theta)$ at $\\hat{\\theta}$, we get: <br><br>\n",
    "$p_{post}(\\tilde{y}_{i})$ = $p(\\tilde{y}_{i}|\\hat{\\theta})$ and <br><br>\n",
    "$elpd_{\\hat{\\theta}}$ = $E_{f}(logp(\\tilde{y}|\\hat{\\theta}))$\n",
    "\n",
    "AIC: <br><br>\n",
    "$\\hat{elpd}_{AIC}$ = log p(y|$\\hat{\\theta}_{mle}$) - k, k is the number of parameters in the model <br><br>\n",
    "AIC = -2log p(y|$\\hat{\\theta}_{mle}$) + 2k"
   ]
  },
  {
   "cell_type": "markdown",
   "metadata": {},
   "source": [
    "#### Watanable-Akaike or widely applicable information criterion (WAIC)"
   ]
  },
  {
   "cell_type": "markdown",
   "metadata": {},
   "source": [
    "Here, the correction term is defined as follows: <br>\n",
    "\n",
    "$p_{WAIC}$ = $\\sum_{i=1}^{n}var_{post}(logp(y_{i}|\\theta))$ \n",
    "\n",
    "This represent effective number of parameters (correction term). Finally, we can use it in WAIC: <br><br>\n",
    "WAIC = -2lppd + 2$p_{WAIC}$"
   ]
  },
  {
   "cell_type": "code",
   "execution_count": null,
   "metadata": {},
   "outputs": [],
   "source": [
    "# https://stackoverflow.com/questions/33249122/generating-predictions-from-inferred-parameters-in-pymc3"
   ]
  }
 ],
 "metadata": {
  "kernelspec": {
   "display_name": "ml",
   "language": "python",
   "name": "ml"
  },
  "language_info": {
   "codemirror_mode": {
    "name": "ipython",
    "version": 3
   },
   "file_extension": ".py",
   "mimetype": "text/x-python",
   "name": "python",
   "nbconvert_exporter": "python",
   "pygments_lexer": "ipython3",
   "version": "3.5.2"
  }
 },
 "nbformat": 4,
 "nbformat_minor": 2
}
