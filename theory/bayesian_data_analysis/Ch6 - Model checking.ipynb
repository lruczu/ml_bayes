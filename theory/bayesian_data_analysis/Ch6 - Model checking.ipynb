{
 "cells": [
  {
   "cell_type": "code",
   "execution_count": 1,
   "metadata": {},
   "outputs": [
    {
     "name": "stderr",
     "output_type": "stream",
     "text": [
      "/home/user/ml/lib/python3.5/site-packages/h5py/__init__.py:36: FutureWarning: Conversion of the second argument of issubdtype from `float` to `np.floating` is deprecated. In future, it will be treated as `np.float64 == np.dtype(float).type`.\n",
      "  from ._conv import register_converters as _register_converters\n"
     ]
    }
   ],
   "source": [
    "%matplotlib inline\n",
    "\n",
    "import matplotlib.pyplot as plt\n",
    "import numpy as np\n",
    "import pandas as pd\n",
    "import pymc3 as pm\n",
    "from sklearn.linear_model import LinearRegression\n",
    "import theano.tensor as T"
   ]
  },
  {
   "cell_type": "markdown",
   "metadata": {},
   "source": [
    "#### ex 6.2"
   ]
  },
  {
   "cell_type": "code",
   "execution_count": 2,
   "metadata": {},
   "outputs": [],
   "source": [
    "df = pd.DataFrame({\n",
    "    'year': list(range(1976, 1986)),\n",
    "    'fatal_accidents': [24, 25, 31, 31, 22, 21, 26, 20, 16, 22],\n",
    "    'passenger_deaths': [734, 516, 754, 877, 814, 362, 764, 809, 223, 1066],\n",
    "    'death_rate': [0.19, 0.12, 0.15, 0.16, 0.14, 0.06, 0.13, 0.13, 0.03, 0.15]\n",
    "})"
   ]
  },
  {
   "cell_type": "code",
   "execution_count": 3,
   "metadata": {},
   "outputs": [
    {
     "data": {
      "text/html": [
       "<div>\n",
       "<style scoped>\n",
       "    .dataframe tbody tr th:only-of-type {\n",
       "        vertical-align: middle;\n",
       "    }\n",
       "\n",
       "    .dataframe tbody tr th {\n",
       "        vertical-align: top;\n",
       "    }\n",
       "\n",
       "    .dataframe thead th {\n",
       "        text-align: right;\n",
       "    }\n",
       "</style>\n",
       "<table border=\"1\" class=\"dataframe\">\n",
       "  <thead>\n",
       "    <tr style=\"text-align: right;\">\n",
       "      <th></th>\n",
       "      <th>death_rate</th>\n",
       "      <th>fatal_accidents</th>\n",
       "      <th>passenger_deaths</th>\n",
       "      <th>year</th>\n",
       "    </tr>\n",
       "  </thead>\n",
       "  <tbody>\n",
       "    <tr>\n",
       "      <th>0</th>\n",
       "      <td>0.19</td>\n",
       "      <td>24</td>\n",
       "      <td>734</td>\n",
       "      <td>1976</td>\n",
       "    </tr>\n",
       "    <tr>\n",
       "      <th>1</th>\n",
       "      <td>0.12</td>\n",
       "      <td>25</td>\n",
       "      <td>516</td>\n",
       "      <td>1977</td>\n",
       "    </tr>\n",
       "    <tr>\n",
       "      <th>2</th>\n",
       "      <td>0.15</td>\n",
       "      <td>31</td>\n",
       "      <td>754</td>\n",
       "      <td>1978</td>\n",
       "    </tr>\n",
       "    <tr>\n",
       "      <th>3</th>\n",
       "      <td>0.16</td>\n",
       "      <td>31</td>\n",
       "      <td>877</td>\n",
       "      <td>1979</td>\n",
       "    </tr>\n",
       "    <tr>\n",
       "      <th>4</th>\n",
       "      <td>0.14</td>\n",
       "      <td>22</td>\n",
       "      <td>814</td>\n",
       "      <td>1980</td>\n",
       "    </tr>\n",
       "    <tr>\n",
       "      <th>5</th>\n",
       "      <td>0.06</td>\n",
       "      <td>21</td>\n",
       "      <td>362</td>\n",
       "      <td>1981</td>\n",
       "    </tr>\n",
       "    <tr>\n",
       "      <th>6</th>\n",
       "      <td>0.13</td>\n",
       "      <td>26</td>\n",
       "      <td>764</td>\n",
       "      <td>1982</td>\n",
       "    </tr>\n",
       "    <tr>\n",
       "      <th>7</th>\n",
       "      <td>0.13</td>\n",
       "      <td>20</td>\n",
       "      <td>809</td>\n",
       "      <td>1983</td>\n",
       "    </tr>\n",
       "    <tr>\n",
       "      <th>8</th>\n",
       "      <td>0.03</td>\n",
       "      <td>16</td>\n",
       "      <td>223</td>\n",
       "      <td>1984</td>\n",
       "    </tr>\n",
       "    <tr>\n",
       "      <th>9</th>\n",
       "      <td>0.15</td>\n",
       "      <td>22</td>\n",
       "      <td>1066</td>\n",
       "      <td>1985</td>\n",
       "    </tr>\n",
       "  </tbody>\n",
       "</table>\n",
       "</div>"
      ],
      "text/plain": [
       "   death_rate  fatal_accidents  passenger_deaths  year\n",
       "0        0.19               24               734  1976\n",
       "1        0.12               25               516  1977\n",
       "2        0.15               31               754  1978\n",
       "3        0.16               31               877  1979\n",
       "4        0.14               22               814  1980\n",
       "5        0.06               21               362  1981\n",
       "6        0.13               26               764  1982\n",
       "7        0.13               20               809  1983\n",
       "8        0.03               16               223  1984\n",
       "9        0.15               22              1066  1985"
      ]
     },
     "execution_count": 3,
     "metadata": {},
     "output_type": "execute_result"
    }
   ],
   "source": [
    "df"
   ]
  },
  {
   "cell_type": "code",
   "execution_count": 4,
   "metadata": {},
   "outputs": [],
   "source": [
    "df['passenger_miles_flows'] = 100 * 10 ** 6 * df['passenger_deaths'].values / df['death_rate'].values"
   ]
  },
  {
   "cell_type": "code",
   "execution_count": 5,
   "metadata": {},
   "outputs": [
    {
     "data": {
      "text/html": [
       "<div>\n",
       "<style scoped>\n",
       "    .dataframe tbody tr th:only-of-type {\n",
       "        vertical-align: middle;\n",
       "    }\n",
       "\n",
       "    .dataframe tbody tr th {\n",
       "        vertical-align: top;\n",
       "    }\n",
       "\n",
       "    .dataframe thead th {\n",
       "        text-align: right;\n",
       "    }\n",
       "</style>\n",
       "<table border=\"1\" class=\"dataframe\">\n",
       "  <thead>\n",
       "    <tr style=\"text-align: right;\">\n",
       "      <th></th>\n",
       "      <th>death_rate</th>\n",
       "      <th>fatal_accidents</th>\n",
       "      <th>passenger_deaths</th>\n",
       "      <th>year</th>\n",
       "      <th>passenger_miles_flows</th>\n",
       "    </tr>\n",
       "  </thead>\n",
       "  <tbody>\n",
       "    <tr>\n",
       "      <th>0</th>\n",
       "      <td>0.19</td>\n",
       "      <td>24</td>\n",
       "      <td>734</td>\n",
       "      <td>1976</td>\n",
       "      <td>3.863158e+11</td>\n",
       "    </tr>\n",
       "    <tr>\n",
       "      <th>1</th>\n",
       "      <td>0.12</td>\n",
       "      <td>25</td>\n",
       "      <td>516</td>\n",
       "      <td>1977</td>\n",
       "      <td>4.300000e+11</td>\n",
       "    </tr>\n",
       "    <tr>\n",
       "      <th>2</th>\n",
       "      <td>0.15</td>\n",
       "      <td>31</td>\n",
       "      <td>754</td>\n",
       "      <td>1978</td>\n",
       "      <td>5.026667e+11</td>\n",
       "    </tr>\n",
       "    <tr>\n",
       "      <th>3</th>\n",
       "      <td>0.16</td>\n",
       "      <td>31</td>\n",
       "      <td>877</td>\n",
       "      <td>1979</td>\n",
       "      <td>5.481250e+11</td>\n",
       "    </tr>\n",
       "    <tr>\n",
       "      <th>4</th>\n",
       "      <td>0.14</td>\n",
       "      <td>22</td>\n",
       "      <td>814</td>\n",
       "      <td>1980</td>\n",
       "      <td>5.814286e+11</td>\n",
       "    </tr>\n",
       "    <tr>\n",
       "      <th>5</th>\n",
       "      <td>0.06</td>\n",
       "      <td>21</td>\n",
       "      <td>362</td>\n",
       "      <td>1981</td>\n",
       "      <td>6.033333e+11</td>\n",
       "    </tr>\n",
       "    <tr>\n",
       "      <th>6</th>\n",
       "      <td>0.13</td>\n",
       "      <td>26</td>\n",
       "      <td>764</td>\n",
       "      <td>1982</td>\n",
       "      <td>5.876923e+11</td>\n",
       "    </tr>\n",
       "    <tr>\n",
       "      <th>7</th>\n",
       "      <td>0.13</td>\n",
       "      <td>20</td>\n",
       "      <td>809</td>\n",
       "      <td>1983</td>\n",
       "      <td>6.223077e+11</td>\n",
       "    </tr>\n",
       "    <tr>\n",
       "      <th>8</th>\n",
       "      <td>0.03</td>\n",
       "      <td>16</td>\n",
       "      <td>223</td>\n",
       "      <td>1984</td>\n",
       "      <td>7.433333e+11</td>\n",
       "    </tr>\n",
       "    <tr>\n",
       "      <th>9</th>\n",
       "      <td>0.15</td>\n",
       "      <td>22</td>\n",
       "      <td>1066</td>\n",
       "      <td>1985</td>\n",
       "      <td>7.106667e+11</td>\n",
       "    </tr>\n",
       "  </tbody>\n",
       "</table>\n",
       "</div>"
      ],
      "text/plain": [
       "   death_rate  fatal_accidents  passenger_deaths  year  passenger_miles_flows\n",
       "0        0.19               24               734  1976           3.863158e+11\n",
       "1        0.12               25               516  1977           4.300000e+11\n",
       "2        0.15               31               754  1978           5.026667e+11\n",
       "3        0.16               31               877  1979           5.481250e+11\n",
       "4        0.14               22               814  1980           5.814286e+11\n",
       "5        0.06               21               362  1981           6.033333e+11\n",
       "6        0.13               26               764  1982           5.876923e+11\n",
       "7        0.13               20               809  1983           6.223077e+11\n",
       "8        0.03               16               223  1984           7.433333e+11\n",
       "9        0.15               22              1066  1985           7.106667e+11"
      ]
     },
     "execution_count": 5,
     "metadata": {},
     "output_type": "execute_result"
    }
   ],
   "source": [
    "df"
   ]
  },
  {
   "cell_type": "code",
   "execution_count": 6,
   "metadata": {},
   "outputs": [
    {
     "name": "stderr",
     "output_type": "stream",
     "text": [
      "Auto-assigning NUTS sampler...\n",
      "Initializing NUTS using jitter+adapt_diag...\n",
      "Multiprocess sampling (4 chains in 4 jobs)\n",
      "NUTS: [theta]\n",
      "Sampling 4 chains: 100%|██████████| 6000/6000 [00:01<00:00, 5428.62draws/s]\n"
     ]
    }
   ],
   "source": [
    "with pm.Model() as model1:\n",
    "    theta = pm.Gamma('theta', mu=25, sd=10)\n",
    "    y = pm.Poisson('y', mu=theta, observed=df['fatal_accidents'].values)\n",
    "    trace1 = pm.sample(1000)"
   ]
  },
  {
   "cell_type": "code",
   "execution_count": 7,
   "metadata": {},
   "outputs": [
    {
     "name": "stderr",
     "output_type": "stream",
     "text": [
      "Auto-assigning NUTS sampler...\n",
      "Initializing NUTS using jitter+adapt_diag...\n",
      "Multiprocess sampling (4 chains in 4 jobs)\n",
      "NUTS: [theta]\n",
      "Sampling 4 chains: 100%|██████████| 6000/6000 [00:01<00:00, 5035.38draws/s]\n"
     ]
    }
   ],
   "source": [
    "mu = 10 ** (-10)\n",
    "sd = 10 ** (-8)\n",
    "with pm.Model() as model2:\n",
    "    theta = pm.Gamma('theta', mu=mu, sd=sd)\n",
    "    ratio = theta * df['passenger_miles_flows'].values\n",
    "    y = pm.Poisson('y', mu=ratio, observed=df['fatal_accidents'].values)\n",
    "    trace2 = pm.sample(1000)"
   ]
  },
  {
   "cell_type": "code",
   "execution_count": 8,
   "metadata": {},
   "outputs": [
    {
     "name": "stderr",
     "output_type": "stream",
     "text": [
      "Auto-assigning NUTS sampler...\n",
      "Initializing NUTS using jitter+adapt_diag...\n",
      "Multiprocess sampling (4 chains in 4 jobs)\n",
      "NUTS: [theta]\n",
      "Sampling 4 chains: 100%|██████████| 6000/6000 [00:01<00:00, 4770.99draws/s]\n",
      "The acceptance probability does not match the target. It is 0.8858692008963709, but should be close to 0.8. Try to increase the number of tuning steps.\n",
      "The acceptance probability does not match the target. It is 0.8936167507611946, but should be close to 0.8. Try to increase the number of tuning steps.\n",
      "The acceptance probability does not match the target. It is 0.8938056668972537, but should be close to 0.8. Try to increase the number of tuning steps.\n"
     ]
    }
   ],
   "source": [
    "with pm.Model() as model3:\n",
    "    theta = pm.Gamma('theta', mu=500, sd=100)\n",
    "    y = pm.Poisson('y', mu=theta, observed=df['passenger_deaths'].values)\n",
    "    trace3 = pm.sample(1000)"
   ]
  },
  {
   "cell_type": "code",
   "execution_count": 9,
   "metadata": {},
   "outputs": [
    {
     "name": "stderr",
     "output_type": "stream",
     "text": [
      "Auto-assigning NUTS sampler...\n",
      "Initializing NUTS using jitter+adapt_diag...\n",
      "Multiprocess sampling (4 chains in 4 jobs)\n",
      "NUTS: [theta]\n",
      "Sampling 4 chains: 100%|██████████| 8000/8000 [00:01<00:00, 4845.41draws/s]\n"
     ]
    }
   ],
   "source": [
    "mu = 10 ** (-11)\n",
    "sd = 10 ** (-9)\n",
    "with pm.Model() as model4:\n",
    "    theta = pm.Gamma('theta', mu=mu, sd=sd)\n",
    "    ratio = theta * df['passenger_miles_flows'].values\n",
    "    y = pm.Poisson('y', mu=ratio, observed=df['passenger_deaths'].values)\n",
    "    trace4 = pm.sample(1000, tune=1000)"
   ]
  },
  {
   "cell_type": "markdown",
   "metadata": {},
   "source": [
    "For each the models, set up posterior predictive test quantities to check the following assumptions \n",
    "- independent Poisson distributions \n",
    "- no trend over time "
   ]
  },
  {
   "cell_type": "code",
   "execution_count": 10,
   "metadata": {},
   "outputs": [
    {
     "name": "stderr",
     "output_type": "stream",
     "text": [
      "100%|██████████| 1000/1000 [00:00<00:00, 3926.84it/s]\n",
      "100%|██████████| 1000/1000 [00:00<00:00, 2539.50it/s]\n"
     ]
    }
   ],
   "source": [
    "# First two models \n",
    "ppc1 = pm.sample_posterior_predictive(trace1, samples=1000, model=model1)\n",
    "ppc2 = pm.sample_posterior_predictive(trace2, samples=1000, model=model2)"
   ]
  },
  {
   "cell_type": "code",
   "execution_count": 11,
   "metadata": {},
   "outputs": [
    {
     "data": {
      "text/plain": [
       "dict_keys(['y'])"
      ]
     },
     "execution_count": 11,
     "metadata": {},
     "output_type": "execute_result"
    }
   ],
   "source": [
    "ppc1.keys()"
   ]
  },
  {
   "cell_type": "code",
   "execution_count": 12,
   "metadata": {},
   "outputs": [],
   "source": [
    "ppc1 = ppc1['y']\n",
    "ppc2 = ppc2['y']"
   ]
  },
  {
   "cell_type": "code",
   "execution_count": 13,
   "metadata": {},
   "outputs": [
    {
     "data": {
      "text/plain": [
       "((1000, 10), (1000, 10))"
      ]
     },
     "execution_count": 13,
     "metadata": {},
     "output_type": "execute_result"
    }
   ],
   "source": [
    "ppc1.shape, ppc2.shape"
   ]
  },
  {
   "cell_type": "code",
   "execution_count": 14,
   "metadata": {},
   "outputs": [],
   "source": [
    "# for simplicity y_{t} = a * y_{t-1} + b\n",
    "def compute_a(x):\n",
    "    lm = LinearRegression()\n",
    "    lm.fit(x[:-1].reshape((-1, 1)), x[1:])\n",
    "    return lm.coef_[0]"
   ]
  },
  {
   "cell_type": "code",
   "execution_count": 15,
   "metadata": {},
   "outputs": [],
   "source": [
    "# first model \n",
    "ts1 = []\n",
    "for i in range(1000):\n",
    "    ts1.append(\n",
    "        compute_a(ppc1[i])\n",
    "    )\n",
    "# second model\n",
    "ts2 = []\n",
    "for i in range(1000):\n",
    "    ts2.append(\n",
    "        compute_a(ppc2[i])\n",
    "    )"
   ]
  },
  {
   "cell_type": "code",
   "execution_count": 16,
   "metadata": {},
   "outputs": [],
   "source": [
    "T = compute_a(df['fatal_accidents'].values)"
   ]
  },
  {
   "cell_type": "code",
   "execution_count": 17,
   "metadata": {},
   "outputs": [
    {
     "data": {
      "text/plain": [
       "0.4183673469387755"
      ]
     },
     "execution_count": 17,
     "metadata": {},
     "output_type": "execute_result"
    }
   ],
   "source": [
    "T"
   ]
  },
  {
   "cell_type": "code",
   "execution_count": 18,
   "metadata": {},
   "outputs": [
    {
     "data": {
      "image/png": "[encoded data removed]",
      "text/plain": [
       "<Figure size 432x288 with 1 Axes>"
      ]
     },
     "metadata": {},
     "output_type": "display_data"
    }
   ],
   "source": [
    "plt.hist(ts1);"
   ]
  },
  {
   "cell_type": "code",
   "execution_count": 19,
   "metadata": {},
   "outputs": [
    {
     "data": {
      "text/plain": [
       "0.052"
      ]
     },
     "execution_count": 19,
     "metadata": {},
     "output_type": "execute_result"
    }
   ],
   "source": [
    "# p value for the first model\n",
    "np.mean(np.array(ts1) > T)"
   ]
  },
  {
   "cell_type": "code",
   "execution_count": 20,
   "metadata": {},
   "outputs": [
    {
     "data": {
      "image/png": "[encoded data removed]",
      "text/plain": [
       "<Figure size 432x288 with 1 Axes>"
      ]
     },
     "metadata": {},
     "output_type": "display_data"
    }
   ],
   "source": [
    "plt.hist(ts2);"
   ]
  },
  {
   "cell_type": "code",
   "execution_count": 21,
   "metadata": {},
   "outputs": [
    {
     "data": {
      "text/plain": [
       "0.356"
      ]
     },
     "execution_count": 21,
     "metadata": {},
     "output_type": "execute_result"
    }
   ],
   "source": [
    "# p value for the second model\n",
    "np.mean(np.array(ts2) > T)"
   ]
  }
 ],
 "metadata": {
  "kernelspec": {
   "display_name": "ml",
   "language": "python",
   "name": "ml"
  },
  "language_info": {
   "codemirror_mode": {
    "name": "ipython",
    "version": 3
   },
   "file_extension": ".py",
   "mimetype": "text/x-python",
   "name": "python",
   "nbconvert_exporter": "python",
   "pygments_lexer": "ipython3",
   "version": "3.5.2"
  }
 },
 "nbformat": 4,
 "nbformat_minor": 2
}
