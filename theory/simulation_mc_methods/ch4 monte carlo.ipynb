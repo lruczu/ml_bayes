{
 "cells": [
  {
   "cell_type": "code",
   "execution_count": 1,
   "metadata": {},
   "outputs": [],
   "source": [
    "import numpy as np"
   ]
  },
  {
   "cell_type": "markdown",
   "metadata": {},
   "source": [
    "In dynamic systems random variable depends on time t. We can be interested in different characteristics of the process $X_{t}$, which for simplicity is assumed to be a scalar. For example: <br><br>\n",
    "$F_{t, m}(x) = P(X_{t} \\le x | X_{0} = m)$\n",
    "The statistical analysis for finite-horizon simulation models is basically the same as that for static models. \n",
    "\n",
    "Suppose that {$X_{t}, t \\ge 0$} for a continuous process. To estimate the expected average values:\n",
    "$l(T, m) = E[T^{-1}\\int_{0}^{T}X_{t}dt]$ as a function of the time horizon T and the initial value $X_{0} = m$. \n",
    "For a discrete time process $\\int_{0}^{T}X_{t}dt$ is replaced by $\\sum_{t=1}^{T}X_{t}$.\n",
    "\n",
    "$\\hat{l}(T, m) = N^{-1}\\sum_{i=1}^{N}Y_{i}$, where $Y_{i}$ is one simulation of the process."
   ]
  },
  {
   "cell_type": "markdown",
   "metadata": {},
   "source": [
    "#### Problem 4.7\n",
    "Let {$X_{t}, t = 0, 1, 2, ...$} be a random walk on the positive integers. Suppose that p = 0.55 and q = 0.45. Let $X_{0} = 0$. Let Y be the maximum position reached after 100 transitions. Estimate the probability that $Y \\ge 15$ and give 95% confidence interval for this probability based on 1000 replications of Y. "
   ]
  },
  {
   "cell_type": "markdown",
   "metadata": {},
   "source": [
    "#### Solution"
   ]
  },
  {
   "cell_type": "code",
   "execution_count": 3,
   "metadata": {},
   "outputs": [],
   "source": [
    "p = 0.55\n",
    "q = 0.45\n",
    "N = 1000\n",
    "T = 100\n",
    "ys = []\n",
    "for i in range(N):\n",
    "    yi = np.max(np.cumsum(np.random.choice([1, -1], size=T, p=[p, q]))) # computation of Yi\n",
    "    ys.append(yi)\n",
    "ys = np.array(ys)"
   ]
  },
  {
   "cell_type": "code",
   "execution_count": 5,
   "metadata": {},
   "outputs": [],
   "source": [
    "# basically the actual Yi we are interested in is the flag (random variable taking on 0 or 1) Yi >== 15\n",
    "ys = (ys >= 15) * 1"
   ]
  },
  {
   "cell_type": "code",
   "execution_count": 8,
   "metadata": {},
   "outputs": [
    {
     "name": "stdout",
     "output_type": "stream",
     "text": [
      "95% confidence interval: (0.422, +/- 0.030610908277932565)\n"
     ]
    }
   ],
   "source": [
    "mean_ = np.mean(ys)\n",
    "std_ = np.std(ys) / np.sqrt(N)\n",
    "print('95% confidence interval: ({}, +/- {})'.format(mean_, 1.96 * std_))"
   ]
  },
  {
   "cell_type": "markdown",
   "metadata": {},
   "source": [
    "Assume that the process {$X_{t}$} is stationary. Suppose we wish to estimate the steady-state expected value l = E[$X_{t}$]. Then $l$ can be estimated as either: <br>\n",
    "$\\hat{l} = T^{-1}\\sum_{t=1}^{T}X_{t}$\n",
    "<br>\n",
    "or\n",
    "<br>\n",
    "$\\hat{l} = T^{-1}\\int_{0}^{T}X_{t}dt$\n",
    "\n",
    "Typically Xs in a stationary can be correlated, so some care must be taken. \n",
    "For discrete case: <br><br>\n",
    "$Var(\\hat{l}) = \\frac{1}{T^{2}}(\\sum_{t=1}^{T}Var(X_{t}) + 2\\sum_{s=1}^{T-1}\\sum_{t=s+1}^{T}Cov(X_{s}, X_{t}))$ <br>\n",
    "$Cov(X_{s}, X_{t}) = E[X_{s}X_{t}] - E[X_{s}]E[X_{t}] = E[X_{s}X_{t}] - l^{2} = R(t - s)$. <br><br>\n",
    "R defines the covariance function of the stationary process. $R(0) = Var(X_{t})$.<br><br>\n",
    "$Var(\\hat{l}) = \\frac{1}{T^{2}}(\\sum_{t=1}^{T}R(0) + 2\\sum_{s=1}^{T-1}\\sum_{t=s+1}^{T}R(t - s))$ <br><br>\n",
    "$Var(\\hat{l}) T = R(0) + 2\\frac{1}{T}\\sum_{t=1}^{T-1}(T - t)R(t)$ <br><br>\n",
    "$Var(\\hat{l}) T=  R(0) + 2\\sum_{t=1}^{T - 1}(1 - \\frac{t}{T})R(t)$, for latge T <br><br>\n",
    "$Var(\\hat{l}) T=  R(0) + 2\\sum_{t=1}^{T - 1}R(t)$ <br><br>\n",
    "In many applications R(t) decreases rapidly with t and only the first few terms are revevant, say R(0), R(1), .., R(k). Each one can be estimated<br> Thus, for large T the variance of $\\hat{l}$ can be estimated as $\\frac{\\overline{S}^{2}}{T}$, where <br><br>\n",
    "$\\overline{S}^{2} = \\hat{R(0)} + 2\\sum_{t=1}^{K}\\hat{R(t)}$"
   ]
  },
  {
   "cell_type": "markdown",
   "metadata": {},
   "source": [
    "Batch Means Method is used to estimate steady-state parameters from a single run, say of length M. The initial K observations, corresponding to the transient part of the run (called burn-in), are deleted, and the remaining M - K observations are divided into N batches, each of length <br>\n",
    "\n",
    "$T = \\frac{M - K}{N}$\n",
    "\n",
    "Suppose we want to estimate the expected steady-state performance $l = E[X_{t}]$, assuming that the process is stationary for $t \\ge K$. Let $X_{ti}$ denote the t-th observation from the i-th batch. The sample mean of the i-th batch of length T is given by <br><br>\n",
    "$Y_{i}$ = $\\frac{1}{T}\\sum_{t=1}^{T}X_{ti}$, i = 1, .., N <br><br>\n",
    "Therefore, the sample mean $\\hat{l}$ of $l$ is <br><br>\n",
    "$\\hat{l} = \\frac{1}{M-K}\\sum_{t=K+1}^{M}X_{t} =  \\frac{T}{M-K}\\sum_{i=1}^{N}Y_{i}$ = $\\frac{1}{N}\\sum_{i=1}^{N}Y_{i}$<br><br>\n",
    "In order to ensure approximate independence between the batches, their size, T, should be large enough. In order for the central limit theorem to hold approximately, the number of batches, N, should be chosen in the range of 20-30. In the case where the batch means do exhibit some dependence, we can ajust it by taking covariance components into account in calculations of standard deviations. "
   ]
  },
  {
   "cell_type": "code",
   "execution_count": null,
   "metadata": {},
   "outputs": [],
   "source": []
  },
  {
   "cell_type": "code",
   "execution_count": null,
   "metadata": {},
   "outputs": [],
   "source": []
  },
  {
   "cell_type": "code",
   "execution_count": null,
   "metadata": {},
   "outputs": [],
   "source": []
  },
  {
   "cell_type": "markdown",
   "metadata": {},
   "source": [
    "#### Problem 4.8\n",
    "Consider M/M/1 queue. Let $X_{t}$ be the number of customers in the system at time $t \\ge 0$. Run a computer simulation of the process {$X_{t} \\ge 0$} with $\\lambda = 1$ and $\\mu = 2$, starting with an empty system. Let X denote the steady-state number of people in the system. Find point estimates and confidence intervals for $l = E[X]$, using the batch mean and regenerative methods as follows: "
   ]
  },
  {
   "cell_type": "markdown",
   "metadata": {},
   "source": [
    "a) For the batch means method run the system for a simulation time of 10000, discard the observations in the interval [0, 100], and use N = 30 batches. \n",
    "\n",
    "#### Solution"
   ]
  },
  {
   "cell_type": "code",
   "execution_count": null,
   "metadata": {},
   "outputs": [],
   "source": []
  },
  {
   "cell_type": "code",
   "execution_count": null,
   "metadata": {},
   "outputs": [],
   "source": []
  },
  {
   "cell_type": "code",
   "execution_count": null,
   "metadata": {},
   "outputs": [],
   "source": []
  }
 ],
 "metadata": {
  "kernelspec": {
   "display_name": "Python 3",
   "language": "python",
   "name": "python3"
  },
  "language_info": {
   "codemirror_mode": {
    "name": "ipython",
    "version": 3
   },
   "file_extension": ".py",
   "mimetype": "text/x-python",
   "name": "python",
   "nbconvert_exporter": "python",
   "pygments_lexer": "ipython3",
   "version": "3.7.1"
  }
 },
 "nbformat": 4,
 "nbformat_minor": 2
}
